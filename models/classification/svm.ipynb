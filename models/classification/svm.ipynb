{
 "cells": [
  {
   "cell_type": "markdown",
   "metadata": {},
   "source": [
    "## SVM"
   ]
  },
  {
   "cell_type": "code",
   "execution_count": 1,
   "metadata": {},
   "outputs": [],
   "source": [
    "import pandas as pd\n",
    "from matplotlib import pyplot as plt\n",
    "from sklearn.model_selection import train_test_split\n",
    "from sklearn.svm import SVC\n",
    "from sklearn.model_selection import GridSearchCV\n",
    "from termcolor import colored\n",
    "from collections import Counter\n",
    "from sklearn.decomposition import PCA\n",
    "from sklearn.metrics import confusion_matrix\n",
    "from imblearn.metrics import classification_report_imbalanced\n",
    "from imblearn.over_sampling import SMOTE"
   ]
  },
  {
   "cell_type": "code",
   "execution_count": 2,
   "metadata": {},
   "outputs": [],
   "source": [
    "data=pd.read_csv(\"C:/Users/Administrator/2023_Data_Mining_Coffee_Quality_Dataset/cleaned_data.csv\")"
   ]
  },
  {
   "cell_type": "code",
   "execution_count": 3,
   "metadata": {},
   "outputs": [],
   "source": [
    "data.drop(\"Unnamed: 0\",axis=1,inplace=True)"
   ]
  },
  {
   "cell_type": "code",
   "execution_count": 4,
   "metadata": {},
   "outputs": [
    {
     "data": {
      "text/html": [
       "<div>\n",
       "<style scoped>\n",
       "    .dataframe tbody tr th:only-of-type {\n",
       "        vertical-align: middle;\n",
       "    }\n",
       "\n",
       "    .dataframe tbody tr th {\n",
       "        vertical-align: top;\n",
       "    }\n",
       "\n",
       "    .dataframe thead th {\n",
       "        text-align: right;\n",
       "    }\n",
       "</style>\n",
       "<table border=\"1\" class=\"dataframe\">\n",
       "  <thead>\n",
       "    <tr style=\"text-align: right;\">\n",
       "      <th></th>\n",
       "      <th>Species</th>\n",
       "      <th>Country.of.Origin</th>\n",
       "      <th>Region</th>\n",
       "      <th>Harvest.Year</th>\n",
       "      <th>Variety</th>\n",
       "      <th>Processing.Method</th>\n",
       "      <th>Category.One.Defects</th>\n",
       "      <th>Quakers</th>\n",
       "      <th>Color</th>\n",
       "      <th>Category.Two.Defects</th>\n",
       "      <th>altitude_mean_meters</th>\n",
       "    </tr>\n",
       "  </thead>\n",
       "  <tbody>\n",
       "    <tr>\n",
       "      <th>0</th>\n",
       "      <td>0</td>\n",
       "      <td>8</td>\n",
       "      <td>115</td>\n",
       "      <td>5</td>\n",
       "      <td>5</td>\n",
       "      <td>4</td>\n",
       "      <td>0</td>\n",
       "      <td>0.0</td>\n",
       "      <td>2</td>\n",
       "      <td>0</td>\n",
       "      <td>2075.0</td>\n",
       "    </tr>\n",
       "    <tr>\n",
       "      <th>1</th>\n",
       "      <td>0</td>\n",
       "      <td>8</td>\n",
       "      <td>115</td>\n",
       "      <td>5</td>\n",
       "      <td>15</td>\n",
       "      <td>4</td>\n",
       "      <td>0</td>\n",
       "      <td>0.0</td>\n",
       "      <td>2</td>\n",
       "      <td>1</td>\n",
       "      <td>2075.0</td>\n",
       "    </tr>\n",
       "    <tr>\n",
       "      <th>2</th>\n",
       "      <td>0</td>\n",
       "      <td>9</td>\n",
       "      <td>122</td>\n",
       "      <td>3</td>\n",
       "      <td>2</td>\n",
       "      <td>4</td>\n",
       "      <td>0</td>\n",
       "      <td>0.0</td>\n",
       "      <td>2</td>\n",
       "      <td>0</td>\n",
       "      <td>1700.0</td>\n",
       "    </tr>\n",
       "    <tr>\n",
       "      <th>3</th>\n",
       "      <td>0</td>\n",
       "      <td>8</td>\n",
       "      <td>226</td>\n",
       "      <td>5</td>\n",
       "      <td>5</td>\n",
       "      <td>0</td>\n",
       "      <td>0</td>\n",
       "      <td>0.0</td>\n",
       "      <td>2</td>\n",
       "      <td>2</td>\n",
       "      <td>2000.0</td>\n",
       "    </tr>\n",
       "    <tr>\n",
       "      <th>4</th>\n",
       "      <td>0</td>\n",
       "      <td>8</td>\n",
       "      <td>115</td>\n",
       "      <td>5</td>\n",
       "      <td>15</td>\n",
       "      <td>4</td>\n",
       "      <td>0</td>\n",
       "      <td>0.0</td>\n",
       "      <td>2</td>\n",
       "      <td>2</td>\n",
       "      <td>2075.0</td>\n",
       "    </tr>\n",
       "  </tbody>\n",
       "</table>\n",
       "</div>"
      ],
      "text/plain": [
       "   Species  Country.of.Origin  Region  Harvest.Year  Variety  \\\n",
       "0        0                  8     115             5        5   \n",
       "1        0                  8     115             5       15   \n",
       "2        0                  9     122             3        2   \n",
       "3        0                  8     226             5        5   \n",
       "4        0                  8     115             5       15   \n",
       "\n",
       "   Processing.Method  Category.One.Defects  Quakers  Color  \\\n",
       "0                  4                     0      0.0      2   \n",
       "1                  4                     0      0.0      2   \n",
       "2                  4                     0      0.0      2   \n",
       "3                  0                     0      0.0      2   \n",
       "4                  4                     0      0.0      2   \n",
       "\n",
       "   Category.Two.Defects  altitude_mean_meters  \n",
       "0                     0                2075.0  \n",
       "1                     1                2075.0  \n",
       "2                     0                1700.0  \n",
       "3                     2                2000.0  \n",
       "4                     2                2075.0  "
      ]
     },
     "execution_count": 4,
     "metadata": {},
     "output_type": "execute_result"
    }
   ],
   "source": [
    "Y=data[\"Total.Cup.Points\"]\n",
    "X=data.drop(\"Total.Cup.Points\",axis=1)\n",
    "feature_names=X.columns\n",
    "X.head()"
   ]
  },
  {
   "cell_type": "code",
   "execution_count": 5,
   "metadata": {},
   "outputs": [
    {
     "name": "stdout",
     "output_type": "stream",
     "text": [
      "(928, 11) (398, 11)\n"
     ]
    }
   ],
   "source": [
    "X_train, X_test, Y_train, Y_test = train_test_split(X, Y, test_size=0.30, stratify=Y, random_state=42)\n",
    "print(X_train.shape, X_test.shape)"
   ]
  },
  {
   "cell_type": "code",
   "execution_count": 6,
   "metadata": {},
   "outputs": [],
   "source": [
    "def resample(sampler, X, Y):\n",
    "    X_resampled, y_resampled = sampler.fit_resample(X, Y)\n",
    "    print(colored(\"Number of instances before resampling with {} : {}. \".format(type(sampler).__name__,\\\n",
    "                                                                           Counter(Y).items()), \"green\"))\n",
    "    print(colored(\"Number of instances after  resampling with {} : {}. \".format(type(sampler).__name__,\\\n",
    "                                                                           Counter(y_resampled).items()), \"blue\"))\n",
    "    return X_resampled, y_resampled\n",
    "    "
   ]
  },
  {
   "cell_type": "code",
   "execution_count": 7,
   "metadata": {},
   "outputs": [],
   "source": [
    "def report_imbalanced(model, x, y, text = \"training\"):\n",
    "    y_pred = model.predict(x)\n",
    "    \n",
    "    print(colored(\"Classification report for model {} on {} data\".format(type(model).__name__, text), \"green\"))\n",
    "    print(\"---------------------------------------------------------------------------------\")\n",
    "    print(classification_report_imbalanced(y, y_pred, zero_division=True))\n",
    "    print(\"---------------------------------------------------------------------------------\")\n",
    "    \n",
    "    print(colored(\"Confusion matrix for model {} on {} data \".format(type(model).__name__, text), \"green\"))\n",
    "    print(\"---------------------------------------------------------------------------------\")\n",
    "    print(pd.DataFrame(confusion_matrix(y, y_pred),columns=[4,5,6,7,8,9],index=[4,5,6,7,8,9]))\n",
    "    print(\"---------------------------------------------------------------------------------\")"
   ]
  },
  {
   "cell_type": "code",
   "execution_count": 8,
   "metadata": {},
   "outputs": [
    {
     "ename": "NameError",
     "evalue": "name 'colored' is not defined",
     "output_type": "error",
     "traceback": [
      "\u001b[1;31m---------------------------------------------------------------------------\u001b[0m",
      "\u001b[1;31mNameError\u001b[0m                                 Traceback (most recent call last)",
      "Cell \u001b[1;32mIn[8], line 4\u001b[0m\n\u001b[0;32m      2\u001b[0m \u001b[39mfrom\u001b[39;00m \u001b[39mimblearn\u001b[39;00m\u001b[39m.\u001b[39;00m\u001b[39mover_sampling\u001b[39;00m \u001b[39mimport\u001b[39;00m SMOTE\n\u001b[0;32m      3\u001b[0m smote \u001b[39m=\u001b[39m SMOTE(k_neighbors\u001b[39m=\u001b[39m\u001b[39m10\u001b[39m, random_state\u001b[39m=\u001b[39m\u001b[39m42\u001b[39m)\n\u001b[1;32m----> 4\u001b[0m X_resampled, y_resampled \u001b[39m=\u001b[39m resample(smote, X_train, Y_train)\n",
      "Cell \u001b[1;32mIn[6], line 6\u001b[0m, in \u001b[0;36mresample\u001b[1;34m(sampler, X, Y)\u001b[0m\n\u001b[0;32m      4\u001b[0m \u001b[39mdef\u001b[39;00m \u001b[39mresample\u001b[39m(sampler, X, Y):\n\u001b[0;32m      5\u001b[0m     X_resampled, y_resampled \u001b[39m=\u001b[39m sampler\u001b[39m.\u001b[39mfit_resample(X, Y)\n\u001b[1;32m----> 6\u001b[0m     \u001b[39mprint\u001b[39m(colored(\u001b[39m\"\u001b[39m\u001b[39mNumber of instances before resampling with \u001b[39m\u001b[39m{}\u001b[39;00m\u001b[39m : \u001b[39m\u001b[39m{}\u001b[39;00m\u001b[39m. \u001b[39m\u001b[39m\"\u001b[39m\u001b[39m.\u001b[39mformat(\u001b[39mtype\u001b[39m(sampler)\u001b[39m.\u001b[39m\u001b[39m__name__\u001b[39m,\\\n\u001b[0;32m      7\u001b[0m                                                                            Counter(Y)\u001b[39m.\u001b[39mitems()), \u001b[39m\"\u001b[39m\u001b[39mgreen\u001b[39m\u001b[39m\"\u001b[39m))\n\u001b[0;32m      8\u001b[0m     \u001b[39mprint\u001b[39m(colored(\u001b[39m\"\u001b[39m\u001b[39mNumber of instances after  resampling with \u001b[39m\u001b[39m{}\u001b[39;00m\u001b[39m : \u001b[39m\u001b[39m{}\u001b[39;00m\u001b[39m. \u001b[39m\u001b[39m\"\u001b[39m\u001b[39m.\u001b[39mformat(\u001b[39mtype\u001b[39m(sampler)\u001b[39m.\u001b[39m\u001b[39m__name__\u001b[39m,\\\n\u001b[0;32m      9\u001b[0m                                                                            Counter(y_resampled)\u001b[39m.\u001b[39mitems()), \u001b[39m\"\u001b[39m\u001b[39mblue\u001b[39m\u001b[39m\"\u001b[39m))\n\u001b[0;32m     10\u001b[0m     \u001b[39mreturn\u001b[39;00m X_resampled, y_resampled\n",
      "\u001b[1;31mNameError\u001b[0m: name 'colored' is not defined"
     ]
    }
   ],
   "source": [
    "#Balansiranje klasa koristeci SMOTE\n",
    "smote = SMOTE(k_neighbors=10, random_state=42)\n",
    "X_resampled, y_resampled = resample(smote, X_train, Y_train)"
   ]
  },
  {
   "cell_type": "code",
   "execution_count": null,
   "metadata": {},
   "outputs": [],
   "source": [
    "params = [\n",
    "            {\n",
    "                'kernel': ['linear'],\n",
    "                'C': [0.01, 0.1, 1, 10],\n",
    "            },\n",
    "            {\n",
    "                'kernel': ['rbf'],\n",
    "                'C': [0.01, 0.1, 1, 10],\n",
    "                'gamma': [0.01, 0.1, 1, 10],\n",
    "            },\n",
    "         ]"
   ]
  },
  {
   "cell_type": "code",
   "execution_count": null,
   "metadata": {},
   "outputs": [],
   "source": [
    "gs = GridSearchCV(SVC(), params, scoring='accuracy', cv=5, verbose=5)"
   ]
  },
  {
   "cell_type": "code",
   "execution_count": null,
   "metadata": {},
   "outputs": [
    {
     "name": "stdout",
     "output_type": "stream",
     "text": [
      "Fitting 5 folds for each of 20 candidates, totalling 100 fits\n",
      "[CV 1/5] END .............C=0.01, kernel=linear;, score=0.602 total time= 3.4min\n",
      "[CV 2/5] END .............C=0.01, kernel=linear;, score=0.597 total time= 2.2min\n",
      "[CV 3/5] END .............C=0.01, kernel=linear;, score=0.602 total time= 1.7min\n",
      "[CV 4/5] END .............C=0.01, kernel=linear;, score=0.600 total time= 2.9min\n",
      "[CV 5/5] END .............C=0.01, kernel=linear;, score=0.605 total time= 3.1min\n",
      "[CV 1/5] END ..............C=0.1, kernel=linear;, score=0.608 total time= 4.1min\n",
      "[CV 2/5] END ..............C=0.1, kernel=linear;, score=0.597 total time= 4.7min\n",
      "[CV 3/5] END ..............C=0.1, kernel=linear;, score=0.597 total time= 4.2min\n"
     ]
    }
   ],
   "source": [
    "gs.fit(X_train, Y_train)"
   ]
  },
  {
   "cell_type": "code",
   "execution_count": null,
   "metadata": {},
   "outputs": [],
   "source": [
    "gs.best_params_"
   ]
  },
  {
   "cell_type": "code",
   "execution_count": null,
   "metadata": {},
   "outputs": [],
   "source": [
    "gs.best_score_"
   ]
  },
  {
   "cell_type": "code",
   "execution_count": null,
   "metadata": {},
   "outputs": [],
   "source": [
    "report_imbalanced(gs.best_estimator_,X_resampled,y_resampled)"
   ]
  },
  {
   "cell_type": "code",
   "execution_count": null,
   "metadata": {},
   "outputs": [],
   "source": [
    "report_imbalanced(gs.best_estimator_,X_test,Y_test)"
   ]
  }
 ],
 "metadata": {
  "kernelspec": {
   "display_name": "Python 3",
   "language": "python",
   "name": "python3"
  },
  "language_info": {
   "codemirror_mode": {
    "name": "ipython",
    "version": 3
   },
   "file_extension": ".py",
   "mimetype": "text/x-python",
   "name": "python",
   "nbconvert_exporter": "python",
   "pygments_lexer": "ipython3",
   "version": "3.11.4"
  },
  "orig_nbformat": 4
 },
 "nbformat": 4,
 "nbformat_minor": 2
}
