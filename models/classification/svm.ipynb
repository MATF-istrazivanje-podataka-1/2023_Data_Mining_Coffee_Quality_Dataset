{
 "cells": [
  {
   "cell_type": "markdown",
   "metadata": {},
   "source": [
    "## SVM"
   ]
  },
  {
   "cell_type": "code",
   "execution_count": 1,
   "metadata": {},
   "outputs": [],
   "source": [
    "import pandas as pd\n",
    "from matplotlib import pyplot as plt\n",
    "from sklearn.model_selection import train_test_split\n",
    "from sklearn.svm import SVC\n",
    "from sklearn.model_selection import GridSearchCV\n",
    "from termcolor import colored\n",
    "from collections import Counter\n",
    "from sklearn.decomposition import PCA\n",
    "from sklearn.metrics import confusion_matrix\n",
    "from imblearn.metrics import classification_report_imbalanced\n",
    "from imblearn.over_sampling import SMOTE"
   ]
  },
  {
   "cell_type": "code",
   "execution_count": 2,
   "metadata": {},
   "outputs": [],
   "source": [
    "data=pd.read_csv(\"C:/Users/Administrator/2023_Data_Mining_Coffee_Quality_Dataset/cleaned_data.csv\")"
   ]
  },
  {
   "cell_type": "code",
   "execution_count": 3,
   "metadata": {},
   "outputs": [],
   "source": [
    "data.drop(\"Unnamed: 0\",axis=1,inplace=True)"
   ]
  },
  {
   "cell_type": "code",
   "execution_count": 4,
   "metadata": {},
   "outputs": [
    {
     "data": {
      "text/html": [
       "<div>\n",
       "<style scoped>\n",
       "    .dataframe tbody tr th:only-of-type {\n",
       "        vertical-align: middle;\n",
       "    }\n",
       "\n",
       "    .dataframe tbody tr th {\n",
       "        vertical-align: top;\n",
       "    }\n",
       "\n",
       "    .dataframe thead th {\n",
       "        text-align: right;\n",
       "    }\n",
       "</style>\n",
       "<table border=\"1\" class=\"dataframe\">\n",
       "  <thead>\n",
       "    <tr style=\"text-align: right;\">\n",
       "      <th></th>\n",
       "      <th>Species</th>\n",
       "      <th>Country.of.Origin</th>\n",
       "      <th>Region</th>\n",
       "      <th>Harvest.Year</th>\n",
       "      <th>Variety</th>\n",
       "      <th>Processing.Method</th>\n",
       "      <th>Category.One.Defects</th>\n",
       "      <th>Quakers</th>\n",
       "      <th>Color</th>\n",
       "      <th>Category.Two.Defects</th>\n",
       "      <th>altitude_mean_meters</th>\n",
       "    </tr>\n",
       "  </thead>\n",
       "  <tbody>\n",
       "    <tr>\n",
       "      <th>0</th>\n",
       "      <td>0</td>\n",
       "      <td>8</td>\n",
       "      <td>115</td>\n",
       "      <td>5</td>\n",
       "      <td>5</td>\n",
       "      <td>4</td>\n",
       "      <td>0</td>\n",
       "      <td>0.0</td>\n",
       "      <td>2</td>\n",
       "      <td>0</td>\n",
       "      <td>2075.0</td>\n",
       "    </tr>\n",
       "    <tr>\n",
       "      <th>1</th>\n",
       "      <td>0</td>\n",
       "      <td>8</td>\n",
       "      <td>115</td>\n",
       "      <td>5</td>\n",
       "      <td>15</td>\n",
       "      <td>4</td>\n",
       "      <td>0</td>\n",
       "      <td>0.0</td>\n",
       "      <td>2</td>\n",
       "      <td>1</td>\n",
       "      <td>2075.0</td>\n",
       "    </tr>\n",
       "    <tr>\n",
       "      <th>2</th>\n",
       "      <td>0</td>\n",
       "      <td>9</td>\n",
       "      <td>122</td>\n",
       "      <td>3</td>\n",
       "      <td>2</td>\n",
       "      <td>4</td>\n",
       "      <td>0</td>\n",
       "      <td>0.0</td>\n",
       "      <td>2</td>\n",
       "      <td>0</td>\n",
       "      <td>1700.0</td>\n",
       "    </tr>\n",
       "    <tr>\n",
       "      <th>3</th>\n",
       "      <td>0</td>\n",
       "      <td>8</td>\n",
       "      <td>226</td>\n",
       "      <td>5</td>\n",
       "      <td>5</td>\n",
       "      <td>0</td>\n",
       "      <td>0</td>\n",
       "      <td>0.0</td>\n",
       "      <td>2</td>\n",
       "      <td>2</td>\n",
       "      <td>2000.0</td>\n",
       "    </tr>\n",
       "    <tr>\n",
       "      <th>4</th>\n",
       "      <td>0</td>\n",
       "      <td>8</td>\n",
       "      <td>115</td>\n",
       "      <td>5</td>\n",
       "      <td>15</td>\n",
       "      <td>4</td>\n",
       "      <td>0</td>\n",
       "      <td>0.0</td>\n",
       "      <td>2</td>\n",
       "      <td>2</td>\n",
       "      <td>2075.0</td>\n",
       "    </tr>\n",
       "  </tbody>\n",
       "</table>\n",
       "</div>"
      ],
      "text/plain": [
       "   Species  Country.of.Origin  Region  Harvest.Year  Variety  \\\n",
       "0        0                  8     115             5        5   \n",
       "1        0                  8     115             5       15   \n",
       "2        0                  9     122             3        2   \n",
       "3        0                  8     226             5        5   \n",
       "4        0                  8     115             5       15   \n",
       "\n",
       "   Processing.Method  Category.One.Defects  Quakers  Color  \\\n",
       "0                  4                     0      0.0      2   \n",
       "1                  4                     0      0.0      2   \n",
       "2                  4                     0      0.0      2   \n",
       "3                  0                     0      0.0      2   \n",
       "4                  4                     0      0.0      2   \n",
       "\n",
       "   Category.Two.Defects  altitude_mean_meters  \n",
       "0                     0                2075.0  \n",
       "1                     1                2075.0  \n",
       "2                     0                1700.0  \n",
       "3                     2                2000.0  \n",
       "4                     2                2075.0  "
      ]
     },
     "execution_count": 4,
     "metadata": {},
     "output_type": "execute_result"
    }
   ],
   "source": [
    "Y=data[\"Total.Cup.Points\"]\n",
    "X=data.drop(\"Total.Cup.Points\",axis=1)\n",
    "feature_names=X.columns\n",
    "X.head()"
   ]
  },
  {
   "cell_type": "code",
   "execution_count": 5,
   "metadata": {},
   "outputs": [
    {
     "name": "stdout",
     "output_type": "stream",
     "text": [
      "(928, 11) (398, 11)\n"
     ]
    }
   ],
   "source": [
    "X_train, X_test, Y_train, Y_test = train_test_split(X, Y, test_size=0.30, stratify=Y, random_state=42)\n",
    "print(X_train.shape, X_test.shape)"
   ]
  },
  {
   "cell_type": "code",
   "execution_count": 6,
   "metadata": {},
   "outputs": [],
   "source": [
    "def resample(sampler, X, Y):\n",
    "    X_resampled, y_resampled = sampler.fit_resample(X, Y)\n",
    "    print(colored(\"Number of instances before resampling with {} : {}. \".format(type(sampler).__name__,\\\n",
    "                                                                           Counter(Y).items()), \"green\"))\n",
    "    print(colored(\"Number of instances after  resampling with {} : {}. \".format(type(sampler).__name__,\\\n",
    "                                                                           Counter(y_resampled).items()), \"blue\"))\n",
    "    return X_resampled, y_resampled\n",
    "    "
   ]
  },
  {
   "cell_type": "code",
   "execution_count": 7,
   "metadata": {},
   "outputs": [],
   "source": [
    "def report_imbalanced(model, x, y, text = \"training\"):\n",
    "    y_pred = model.predict(x)\n",
    "    \n",
    "    print(colored(\"Classification report for model {} on {} data\".format(type(model).__name__, text), \"green\"))\n",
    "    print(\"---------------------------------------------------------------------------------\")\n",
    "    print(classification_report_imbalanced(y, y_pred, zero_division=True))\n",
    "    print(\"---------------------------------------------------------------------------------\")\n",
    "    \n",
    "    print(colored(\"Confusion matrix for model {} on {} data \".format(type(model).__name__, text), \"green\"))\n",
    "    print(\"---------------------------------------------------------------------------------\")\n",
    "    print(pd.DataFrame(confusion_matrix(y, y_pred),columns=[4,5,6,7,8,9],index=[4,5,6,7,8,9]))\n",
    "    print(\"---------------------------------------------------------------------------------\")"
   ]
  },
  {
   "cell_type": "code",
   "execution_count": 8,
   "metadata": {},
   "outputs": [
    {
     "name": "stdout",
     "output_type": "stream",
     "text": [
      "\u001b[32mNumber of instances before resampling with SMOTE : dict_items([(7.0, 556), (6.0, 202), (8.0, 109), (4.0, 16), (9.0, 11), (5.0, 34)]). \u001b[0m\n",
      "\u001b[34mNumber of instances after  resampling with SMOTE : dict_items([(7.0, 556), (6.0, 556), (8.0, 556), (4.0, 556), (9.0, 556), (5.0, 556)]). \u001b[0m\n"
     ]
    }
   ],
   "source": [
    "#Balansiranje klasa koristeci SMOTE\n",
    "smote = SMOTE(k_neighbors=10, random_state=42)\n",
    "X_resampled, y_resampled = resample(smote, X_train, Y_train)"
   ]
  },
  {
   "cell_type": "code",
   "execution_count": 9,
   "metadata": {},
   "outputs": [],
   "source": [
    "params = [\n",
    "            {\n",
    "                'kernel': ['linear'],\n",
    "                'C': [0.01, 0.1, 1, 10],\n",
    "            },\n",
    "            {\n",
    "                'kernel': ['rbf'],\n",
    "                'C': [0.01, 0.1, 1, 10],\n",
    "                'gamma': [0.01, 0.1, 1, 10],\n",
    "            },\n",
    "         ]"
   ]
  },
  {
   "cell_type": "code",
   "execution_count": 10,
   "metadata": {},
   "outputs": [],
   "source": [
    "gs = GridSearchCV(SVC(), params, scoring='accuracy', cv=5, verbose=5)"
   ]
  },
  {
   "cell_type": "code",
   "execution_count": 11,
   "metadata": {},
   "outputs": [
    {
     "name": "stdout",
     "output_type": "stream",
     "text": [
      "Fitting 5 folds for each of 20 candidates, totalling 100 fits\n"
     ]
    },
    {
     "name": "stdout",
     "output_type": "stream",
     "text": [
      "[CV 1/5] END .............C=0.01, kernel=linear;, score=0.493 total time= 2.8min\n",
      "[CV 2/5] END .............C=0.01, kernel=linear;, score=0.546 total time= 3.5min\n",
      "[CV 3/5] END .............C=0.01, kernel=linear;, score=0.513 total time=  53.7s\n",
      "[CV 4/5] END .............C=0.01, kernel=linear;, score=0.544 total time= 2.0min\n",
      "[CV 5/5] END .............C=0.01, kernel=linear;, score=0.543 total time= 1.5min\n",
      "[CV 1/5] END ..............C=0.1, kernel=linear;, score=0.494 total time= 5.0min\n",
      "[CV 2/5] END ..............C=0.1, kernel=linear;, score=0.534 total time= 4.8min\n",
      "[CV 3/5] END ..............C=0.1, kernel=linear;, score=0.511 total time= 5.7min\n",
      "[CV 4/5] END ..............C=0.1, kernel=linear;, score=0.537 total time= 6.4min\n",
      "[CV 5/5] END ..............C=0.1, kernel=linear;, score=0.547 total time= 5.7min\n",
      "[CV 1/5] END ................C=1, kernel=linear;, score=0.482 total time=16.8min\n",
      "[CV 2/5] END ................C=1, kernel=linear;, score=0.510 total time=11.7min\n",
      "[CV 3/5] END ................C=1, kernel=linear;, score=0.528 total time=13.3min\n",
      "[CV 4/5] END ................C=1, kernel=linear;, score=0.504 total time=10.6min\n",
      "[CV 5/5] END ................C=1, kernel=linear;, score=0.493 total time=14.5min\n",
      "[CV 1/5] END ...............C=10, kernel=linear;, score=0.473 total time=15.3min\n",
      "[CV 2/5] END ...............C=10, kernel=linear;, score=0.502 total time=14.2min\n",
      "[CV 3/5] END ...............C=10, kernel=linear;, score=0.522 total time=15.5min\n",
      "[CV 4/5] END ...............C=10, kernel=linear;, score=0.493 total time=16.2min\n",
      "[CV 5/5] END ...............C=10, kernel=linear;, score=0.462 total time=19.8min\n",
      "[CV 1/5] END ....C=0.01, gamma=0.01, kernel=rbf;, score=0.373 total time=   1.8s\n",
      "[CV 2/5] END ....C=0.01, gamma=0.01, kernel=rbf;, score=0.414 total time=   2.0s\n",
      "[CV 3/5] END ....C=0.01, gamma=0.01, kernel=rbf;, score=0.313 total time=   1.8s\n",
      "[CV 4/5] END ....C=0.01, gamma=0.01, kernel=rbf;, score=0.309 total time=   1.8s\n",
      "[CV 5/5] END ....C=0.01, gamma=0.01, kernel=rbf;, score=0.261 total time=   1.7s\n",
      "[CV 1/5] END .....C=0.01, gamma=0.1, kernel=rbf;, score=0.301 total time=   2.0s\n",
      "[CV 2/5] END .....C=0.01, gamma=0.1, kernel=rbf;, score=0.246 total time=   2.1s\n",
      "[CV 3/5] END .....C=0.01, gamma=0.1, kernel=rbf;, score=0.211 total time=   2.0s\n",
      "[CV 4/5] END .....C=0.01, gamma=0.1, kernel=rbf;, score=0.207 total time=   2.0s\n",
      "[CV 5/5] END .....C=0.01, gamma=0.1, kernel=rbf;, score=0.244 total time=   2.0s\n",
      "[CV 1/5] END .......C=0.01, gamma=1, kernel=rbf;, score=0.257 total time=   2.2s\n",
      "[CV 2/5] END .......C=0.01, gamma=1, kernel=rbf;, score=0.199 total time=   2.5s\n",
      "[CV 3/5] END .......C=0.01, gamma=1, kernel=rbf;, score=0.198 total time=   2.3s\n",
      "[CV 4/5] END .......C=0.01, gamma=1, kernel=rbf;, score=0.190 total time=   2.3s\n",
      "[CV 5/5] END .......C=0.01, gamma=1, kernel=rbf;, score=0.193 total time=   2.2s\n",
      "[CV 1/5] END ......C=0.01, gamma=10, kernel=rbf;, score=0.192 total time=   2.1s\n",
      "[CV 2/5] END ......C=0.01, gamma=10, kernel=rbf;, score=0.196 total time=   2.1s\n",
      "[CV 3/5] END ......C=0.01, gamma=10, kernel=rbf;, score=0.190 total time=   2.1s\n",
      "[CV 4/5] END ......C=0.01, gamma=10, kernel=rbf;, score=0.190 total time=   2.1s\n",
      "[CV 5/5] END ......C=0.01, gamma=10, kernel=rbf;, score=0.192 total time=   2.2s\n",
      "[CV 1/5] END .....C=0.1, gamma=0.01, kernel=rbf;, score=0.431 total time=   1.7s\n",
      "[CV 2/5] END .....C=0.1, gamma=0.01, kernel=rbf;, score=0.418 total time=   1.7s\n",
      "[CV 3/5] END .....C=0.1, gamma=0.01, kernel=rbf;, score=0.421 total time=   1.8s\n",
      "[CV 4/5] END .....C=0.1, gamma=0.01, kernel=rbf;, score=0.376 total time=   1.8s\n",
      "[CV 5/5] END .....C=0.1, gamma=0.01, kernel=rbf;, score=0.336 total time=   1.8s\n",
      "[CV 1/5] END ......C=0.1, gamma=0.1, kernel=rbf;, score=0.310 total time=   2.0s\n",
      "[CV 2/5] END ......C=0.1, gamma=0.1, kernel=rbf;, score=0.246 total time=   2.0s\n",
      "[CV 3/5] END ......C=0.1, gamma=0.1, kernel=rbf;, score=0.211 total time=   2.1s\n",
      "[CV 4/5] END ......C=0.1, gamma=0.1, kernel=rbf;, score=0.207 total time=   2.0s\n",
      "[CV 5/5] END ......C=0.1, gamma=0.1, kernel=rbf;, score=0.247 total time=   2.0s\n",
      "[CV 1/5] END ........C=0.1, gamma=1, kernel=rbf;, score=0.257 total time=   2.1s\n",
      "[CV 2/5] END ........C=0.1, gamma=1, kernel=rbf;, score=0.199 total time=   2.1s\n",
      "[CV 3/5] END ........C=0.1, gamma=1, kernel=rbf;, score=0.198 total time=   2.1s\n",
      "[CV 4/5] END ........C=0.1, gamma=1, kernel=rbf;, score=0.190 total time=   2.1s\n",
      "[CV 5/5] END ........C=0.1, gamma=1, kernel=rbf;, score=0.193 total time=   2.1s\n",
      "[CV 1/5] END .......C=0.1, gamma=10, kernel=rbf;, score=0.192 total time=   2.1s\n",
      "[CV 2/5] END .......C=0.1, gamma=10, kernel=rbf;, score=0.201 total time=   2.1s\n",
      "[CV 3/5] END .......C=0.1, gamma=10, kernel=rbf;, score=0.190 total time=   2.1s\n",
      "[CV 4/5] END .......C=0.1, gamma=10, kernel=rbf;, score=0.190 total time=   2.1s\n",
      "[CV 5/5] END .......C=0.1, gamma=10, kernel=rbf;, score=0.192 total time=   2.1s\n",
      "[CV 1/5] END .......C=1, gamma=0.01, kernel=rbf;, score=0.671 total time=   1.8s\n",
      "[CV 2/5] END .......C=1, gamma=0.01, kernel=rbf;, score=0.669 total time=   1.8s\n",
      "[CV 3/5] END .......C=1, gamma=0.01, kernel=rbf;, score=0.673 total time=   1.8s\n",
      "[CV 4/5] END .......C=1, gamma=0.01, kernel=rbf;, score=0.667 total time=   1.8s\n",
      "[CV 5/5] END .......C=1, gamma=0.01, kernel=rbf;, score=0.666 total time=   1.8s\n",
      "[CV 1/5] END ........C=1, gamma=0.1, kernel=rbf;, score=0.522 total time=   2.1s\n",
      "[CV 2/5] END ........C=1, gamma=0.1, kernel=rbf;, score=0.496 total time=   2.2s\n",
      "[CV 3/5] END ........C=1, gamma=0.1, kernel=rbf;, score=0.510 total time=   2.2s\n",
      "[CV 4/5] END ........C=1, gamma=0.1, kernel=rbf;, score=0.460 total time=   2.2s\n",
      "[CV 5/5] END ........C=1, gamma=0.1, kernel=rbf;, score=0.468 total time=   2.1s\n",
      "[CV 1/5] END ..........C=1, gamma=1, kernel=rbf;, score=0.334 total time=   2.2s\n",
      "[CV 2/5] END ..........C=1, gamma=1, kernel=rbf;, score=0.319 total time=   2.2s\n",
      "[CV 3/5] END ..........C=1, gamma=1, kernel=rbf;, score=0.318 total time=   2.2s\n",
      "[CV 4/5] END ..........C=1, gamma=1, kernel=rbf;, score=0.301 total time=   2.2s\n",
      "[CV 5/5] END ..........C=1, gamma=1, kernel=rbf;, score=0.309 total time=   2.2s\n",
      "[CV 1/5] END .........C=1, gamma=10, kernel=rbf;, score=0.223 total time=   2.2s\n",
      "[CV 2/5] END .........C=1, gamma=10, kernel=rbf;, score=0.205 total time=   2.2s\n",
      "[CV 3/5] END .........C=1, gamma=10, kernel=rbf;, score=0.202 total time=   2.2s\n",
      "[CV 4/5] END .........C=1, gamma=10, kernel=rbf;, score=0.216 total time=   2.2s\n",
      "[CV 5/5] END .........C=1, gamma=10, kernel=rbf;, score=0.207 total time=   2.2s\n",
      "[CV 1/5] END ......C=10, gamma=0.01, kernel=rbf;, score=0.704 total time=   1.8s\n",
      "[CV 2/5] END ......C=10, gamma=0.01, kernel=rbf;, score=0.673 total time=   1.8s\n",
      "[CV 3/5] END ......C=10, gamma=0.01, kernel=rbf;, score=0.703 total time=   1.9s\n",
      "[CV 4/5] END ......C=10, gamma=0.01, kernel=rbf;, score=0.705 total time=   1.8s\n",
      "[CV 5/5] END ......C=10, gamma=0.01, kernel=rbf;, score=0.696 total time=   1.9s\n",
      "[CV 1/5] END .......C=10, gamma=0.1, kernel=rbf;, score=0.540 total time=   2.2s\n",
      "[CV 2/5] END .......C=10, gamma=0.1, kernel=rbf;, score=0.505 total time=   2.1s\n",
      "[CV 3/5] END .......C=10, gamma=0.1, kernel=rbf;, score=0.517 total time=   2.1s\n",
      "[CV 4/5] END .......C=10, gamma=0.1, kernel=rbf;, score=0.480 total time=   2.1s\n",
      "[CV 5/5] END .......C=10, gamma=0.1, kernel=rbf;, score=0.492 total time=   2.1s\n",
      "[CV 1/5] END .........C=10, gamma=1, kernel=rbf;, score=0.343 total time=   2.2s\n",
      "[CV 2/5] END .........C=10, gamma=1, kernel=rbf;, score=0.327 total time=   2.2s\n",
      "[CV 3/5] END .........C=10, gamma=1, kernel=rbf;, score=0.321 total time=   2.2s\n",
      "[CV 4/5] END .........C=10, gamma=1, kernel=rbf;, score=0.304 total time=   2.2s\n",
      "[CV 5/5] END .........C=10, gamma=1, kernel=rbf;, score=0.322 total time=   2.2s\n",
      "[CV 1/5] END ........C=10, gamma=10, kernel=rbf;, score=0.225 total time=   2.2s\n",
      "[CV 2/5] END ........C=10, gamma=10, kernel=rbf;, score=0.205 total time=   2.3s\n",
      "[CV 3/5] END ........C=10, gamma=10, kernel=rbf;, score=0.202 total time=   2.2s\n",
      "[CV 4/5] END ........C=10, gamma=10, kernel=rbf;, score=0.216 total time=   2.2s\n",
      "[CV 5/5] END ........C=10, gamma=10, kernel=rbf;, score=0.207 total time=   2.3s\n"
     ]
    },
    {
     "data": {
      "text/html": [
       "<style>#sk-container-id-1 {color: black;}#sk-container-id-1 pre{padding: 0;}#sk-container-id-1 div.sk-toggleable {background-color: white;}#sk-container-id-1 label.sk-toggleable__label {cursor: pointer;display: block;width: 100%;margin-bottom: 0;padding: 0.3em;box-sizing: border-box;text-align: center;}#sk-container-id-1 label.sk-toggleable__label-arrow:before {content: \"▸\";float: left;margin-right: 0.25em;color: #696969;}#sk-container-id-1 label.sk-toggleable__label-arrow:hover:before {color: black;}#sk-container-id-1 div.sk-estimator:hover label.sk-toggleable__label-arrow:before {color: black;}#sk-container-id-1 div.sk-toggleable__content {max-height: 0;max-width: 0;overflow: hidden;text-align: left;background-color: #f0f8ff;}#sk-container-id-1 div.sk-toggleable__content pre {margin: 0.2em;color: black;border-radius: 0.25em;background-color: #f0f8ff;}#sk-container-id-1 input.sk-toggleable__control:checked~div.sk-toggleable__content {max-height: 200px;max-width: 100%;overflow: auto;}#sk-container-id-1 input.sk-toggleable__control:checked~label.sk-toggleable__label-arrow:before {content: \"▾\";}#sk-container-id-1 div.sk-estimator input.sk-toggleable__control:checked~label.sk-toggleable__label {background-color: #d4ebff;}#sk-container-id-1 div.sk-label input.sk-toggleable__control:checked~label.sk-toggleable__label {background-color: #d4ebff;}#sk-container-id-1 input.sk-hidden--visually {border: 0;clip: rect(1px 1px 1px 1px);clip: rect(1px, 1px, 1px, 1px);height: 1px;margin: -1px;overflow: hidden;padding: 0;position: absolute;width: 1px;}#sk-container-id-1 div.sk-estimator {font-family: monospace;background-color: #f0f8ff;border: 1px dotted black;border-radius: 0.25em;box-sizing: border-box;margin-bottom: 0.5em;}#sk-container-id-1 div.sk-estimator:hover {background-color: #d4ebff;}#sk-container-id-1 div.sk-parallel-item::after {content: \"\";width: 100%;border-bottom: 1px solid gray;flex-grow: 1;}#sk-container-id-1 div.sk-label:hover label.sk-toggleable__label {background-color: #d4ebff;}#sk-container-id-1 div.sk-serial::before {content: \"\";position: absolute;border-left: 1px solid gray;box-sizing: border-box;top: 0;bottom: 0;left: 50%;z-index: 0;}#sk-container-id-1 div.sk-serial {display: flex;flex-direction: column;align-items: center;background-color: white;padding-right: 0.2em;padding-left: 0.2em;position: relative;}#sk-container-id-1 div.sk-item {position: relative;z-index: 1;}#sk-container-id-1 div.sk-parallel {display: flex;align-items: stretch;justify-content: center;background-color: white;position: relative;}#sk-container-id-1 div.sk-item::before, #sk-container-id-1 div.sk-parallel-item::before {content: \"\";position: absolute;border-left: 1px solid gray;box-sizing: border-box;top: 0;bottom: 0;left: 50%;z-index: -1;}#sk-container-id-1 div.sk-parallel-item {display: flex;flex-direction: column;z-index: 1;position: relative;background-color: white;}#sk-container-id-1 div.sk-parallel-item:first-child::after {align-self: flex-end;width: 50%;}#sk-container-id-1 div.sk-parallel-item:last-child::after {align-self: flex-start;width: 50%;}#sk-container-id-1 div.sk-parallel-item:only-child::after {width: 0;}#sk-container-id-1 div.sk-dashed-wrapped {border: 1px dashed gray;margin: 0 0.4em 0.5em 0.4em;box-sizing: border-box;padding-bottom: 0.4em;background-color: white;}#sk-container-id-1 div.sk-label label {font-family: monospace;font-weight: bold;display: inline-block;line-height: 1.2em;}#sk-container-id-1 div.sk-label-container {text-align: center;}#sk-container-id-1 div.sk-container {/* jupyter's `normalize.less` sets `[hidden] { display: none; }` but bootstrap.min.css set `[hidden] { display: none !important; }` so we also need the `!important` here to be able to override the default hidden behavior on the sphinx rendered scikit-learn.org. See: https://github.com/scikit-learn/scikit-learn/issues/21755 */display: inline-block !important;position: relative;}#sk-container-id-1 div.sk-text-repr-fallback {display: none;}</style><div id=\"sk-container-id-1\" class=\"sk-top-container\"><div class=\"sk-text-repr-fallback\"><pre>GridSearchCV(cv=5, estimator=SVC(),\n",
       "             param_grid=[{&#x27;C&#x27;: [0.01, 0.1, 1, 10], &#x27;kernel&#x27;: [&#x27;linear&#x27;]},\n",
       "                         {&#x27;C&#x27;: [0.01, 0.1, 1, 10], &#x27;gamma&#x27;: [0.01, 0.1, 1, 10],\n",
       "                          &#x27;kernel&#x27;: [&#x27;rbf&#x27;]}],\n",
       "             scoring=&#x27;accuracy&#x27;, verbose=5)</pre><b>In a Jupyter environment, please rerun this cell to show the HTML representation or trust the notebook. <br />On GitHub, the HTML representation is unable to render, please try loading this page with nbviewer.org.</b></div><div class=\"sk-container\" hidden><div class=\"sk-item sk-dashed-wrapped\"><div class=\"sk-label-container\"><div class=\"sk-label sk-toggleable\"><input class=\"sk-toggleable__control sk-hidden--visually\" id=\"sk-estimator-id-1\" type=\"checkbox\" ><label for=\"sk-estimator-id-1\" class=\"sk-toggleable__label sk-toggleable__label-arrow\">GridSearchCV</label><div class=\"sk-toggleable__content\"><pre>GridSearchCV(cv=5, estimator=SVC(),\n",
       "             param_grid=[{&#x27;C&#x27;: [0.01, 0.1, 1, 10], &#x27;kernel&#x27;: [&#x27;linear&#x27;]},\n",
       "                         {&#x27;C&#x27;: [0.01, 0.1, 1, 10], &#x27;gamma&#x27;: [0.01, 0.1, 1, 10],\n",
       "                          &#x27;kernel&#x27;: [&#x27;rbf&#x27;]}],\n",
       "             scoring=&#x27;accuracy&#x27;, verbose=5)</pre></div></div></div><div class=\"sk-parallel\"><div class=\"sk-parallel-item\"><div class=\"sk-item\"><div class=\"sk-label-container\"><div class=\"sk-label sk-toggleable\"><input class=\"sk-toggleable__control sk-hidden--visually\" id=\"sk-estimator-id-2\" type=\"checkbox\" ><label for=\"sk-estimator-id-2\" class=\"sk-toggleable__label sk-toggleable__label-arrow\">estimator: SVC</label><div class=\"sk-toggleable__content\"><pre>SVC()</pre></div></div></div><div class=\"sk-serial\"><div class=\"sk-item\"><div class=\"sk-estimator sk-toggleable\"><input class=\"sk-toggleable__control sk-hidden--visually\" id=\"sk-estimator-id-3\" type=\"checkbox\" ><label for=\"sk-estimator-id-3\" class=\"sk-toggleable__label sk-toggleable__label-arrow\">SVC</label><div class=\"sk-toggleable__content\"><pre>SVC()</pre></div></div></div></div></div></div></div></div></div></div>"
      ],
      "text/plain": [
       "GridSearchCV(cv=5, estimator=SVC(),\n",
       "             param_grid=[{'C': [0.01, 0.1, 1, 10], 'kernel': ['linear']},\n",
       "                         {'C': [0.01, 0.1, 1, 10], 'gamma': [0.01, 0.1, 1, 10],\n",
       "                          'kernel': ['rbf']}],\n",
       "             scoring='accuracy', verbose=5)"
      ]
     },
     "execution_count": 11,
     "metadata": {},
     "output_type": "execute_result"
    }
   ],
   "source": [
    "gs.fit(X_resampled, y_resampled)"
   ]
  },
  {
   "cell_type": "code",
   "execution_count": 12,
   "metadata": {},
   "outputs": [
    {
     "data": {
      "text/plain": [
       "{'C': 10, 'gamma': 0.01, 'kernel': 'rbf'}"
      ]
     },
     "execution_count": 12,
     "metadata": {},
     "output_type": "execute_result"
    }
   ],
   "source": [
    "gs.best_params_"
   ]
  },
  {
   "cell_type": "code",
   "execution_count": 13,
   "metadata": {},
   "outputs": [
    {
     "data": {
      "text/plain": [
       "0.6960409017048362"
      ]
     },
     "execution_count": 13,
     "metadata": {},
     "output_type": "execute_result"
    }
   ],
   "source": [
    "gs.best_score_"
   ]
  },
  {
   "cell_type": "code",
   "execution_count": 14,
   "metadata": {},
   "outputs": [
    {
     "name": "stdout",
     "output_type": "stream",
     "text": [
      "\u001b[32mClassification report for model SVC on training data\u001b[0m\n",
      "---------------------------------------------------------------------------------\n",
      "                   pre       rec       spe        f1       geo       iba       sup\n",
      "\n",
      "        4.0       1.00      1.00      1.00      1.00      1.00      1.00       556\n",
      "        5.0       0.95      0.99      0.99      0.97      0.99      0.99       556\n",
      "        6.0       0.96      0.92      0.99      0.94      0.96      0.91       556\n",
      "        7.0       0.93      0.94      0.99      0.94      0.96      0.93       556\n",
      "        8.0       0.98      0.96      1.00      0.97      0.98      0.95       556\n",
      "        9.0       0.99      1.00      1.00      0.99      1.00      1.00       556\n",
      "\n",
      "avg / total       0.97      0.97      0.99      0.97      0.98      0.96      3336\n",
      "\n",
      "---------------------------------------------------------------------------------\n",
      "\u001b[32mConfusion matrix for model SVC on training data \u001b[0m\n",
      "---------------------------------------------------------------------------------\n",
      "     4    5    6    7    8    9\n",
      "4  555    0    1    0    0    0\n",
      "5    0  553    1    2    0    0\n",
      "6    0   19  511   24    2    0\n",
      "7    0    8   14  524   10    0\n",
      "8    0    0    5   12  534    5\n",
      "9    0    0    0    0    1  555\n",
      "---------------------------------------------------------------------------------\n"
     ]
    }
   ],
   "source": [
    "report_imbalanced(gs.best_estimator_,X_resampled,y_resampled)"
   ]
  },
  {
   "cell_type": "code",
   "execution_count": 15,
   "metadata": {},
   "outputs": [
    {
     "name": "stdout",
     "output_type": "stream",
     "text": [
      "\u001b[32mClassification report for model SVC on training data\u001b[0m\n",
      "---------------------------------------------------------------------------------\n",
      "                   pre       rec       spe        f1       geo       iba       sup\n",
      "\n",
      "        4.0       0.00      0.00      0.97      1.00      0.00      0.00         7\n",
      "        5.0       0.15      0.21      0.96      0.18      0.45      0.19        14\n",
      "        6.0       0.31      0.22      0.86      0.26      0.43      0.18        87\n",
      "        7.0       0.67      0.69      0.48      0.68      0.58      0.34       239\n",
      "        8.0       0.34      0.37      0.91      0.35      0.58      0.32        46\n",
      "        9.0       0.43      0.60      0.99      0.50      0.77      0.57         5\n",
      "\n",
      "avg / total       0.52      0.52      0.64      0.54      0.53      0.29       398\n",
      "\n",
      "---------------------------------------------------------------------------------\n",
      "\u001b[32mConfusion matrix for model SVC on training data \u001b[0m\n",
      "---------------------------------------------------------------------------------\n",
      "   4  5   6    7   8  9\n",
      "4  0  3   1    3   0  0\n",
      "5  1  3   2    8   0  0\n",
      "6  4  4  19   51   8  1\n",
      "7  6  8  34  166  24  1\n",
      "8  0  1   5   21  17  2\n",
      "9  0  1   0    0   1  3\n",
      "---------------------------------------------------------------------------------\n"
     ]
    }
   ],
   "source": [
    "report_imbalanced(gs.best_estimator_,X_test,Y_test)"
   ]
  }
 ],
 "metadata": {
  "kernelspec": {
   "display_name": "Python 3",
   "language": "python",
   "name": "python3"
  },
  "language_info": {
   "codemirror_mode": {
    "name": "ipython",
    "version": 3
   },
   "file_extension": ".py",
   "mimetype": "text/x-python",
   "name": "python",
   "nbconvert_exporter": "python",
   "pygments_lexer": "ipython3",
   "version": "3.11.4"
  },
  "orig_nbformat": 4
 },
 "nbformat": 4,
 "nbformat_minor": 2
}
