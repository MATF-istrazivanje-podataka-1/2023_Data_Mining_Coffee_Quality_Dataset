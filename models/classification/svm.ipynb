{
 "cells": [
  {
   "cell_type": "markdown",
   "metadata": {},
   "source": [
    "## SVM"
   ]
  },
  {
   "cell_type": "code",
   "execution_count": 1,
   "metadata": {},
   "outputs": [],
   "source": [
    "import pandas as pd\n",
    "from matplotlib import pyplot as plt\n",
    "from sklearn.model_selection import train_test_split\n",
    "from sklearn.svm import SVC\n",
    "from sklearn.model_selection import GridSearchCV\n",
    "from termcolor import colored\n",
    "from collections import Counter\n",
    "from sklearn.decomposition import PCA\n",
    "from sklearn.metrics import confusion_matrix\n",
    "from imblearn.metrics import classification_report_imbalanced\n",
    "from imblearn.combine import SMOTEENN\n",
    "from joblib import load"
   ]
  },
  {
   "cell_type": "code",
   "execution_count": 2,
   "metadata": {},
   "outputs": [],
   "source": [
    "data=pd.read_csv(\"C:/Users/Administrator/2023_Data_Mining_Coffee_Quality_Dataset/cleaned_data.csv\")"
   ]
  },
  {
   "cell_type": "code",
   "execution_count": 3,
   "metadata": {},
   "outputs": [],
   "source": [
    "data.drop(\"Unnamed: 0\",axis=1,inplace=True)"
   ]
  },
  {
   "cell_type": "code",
   "execution_count": 4,
   "metadata": {},
   "outputs": [
    {
     "data": {
      "text/html": [
       "<div>\n",
       "<style scoped>\n",
       "    .dataframe tbody tr th:only-of-type {\n",
       "        vertical-align: middle;\n",
       "    }\n",
       "\n",
       "    .dataframe tbody tr th {\n",
       "        vertical-align: top;\n",
       "    }\n",
       "\n",
       "    .dataframe thead th {\n",
       "        text-align: right;\n",
       "    }\n",
       "</style>\n",
       "<table border=\"1\" class=\"dataframe\">\n",
       "  <thead>\n",
       "    <tr style=\"text-align: right;\">\n",
       "      <th></th>\n",
       "      <th>Species</th>\n",
       "      <th>Country.of.Origin</th>\n",
       "      <th>Harvest.Year</th>\n",
       "      <th>Variety</th>\n",
       "      <th>Processing.Method</th>\n",
       "      <th>Category.One.Defects</th>\n",
       "      <th>Quakers</th>\n",
       "      <th>Color</th>\n",
       "      <th>Category.Two.Defects</th>\n",
       "      <th>altitude_mean_meters</th>\n",
       "    </tr>\n",
       "  </thead>\n",
       "  <tbody>\n",
       "    <tr>\n",
       "      <th>0</th>\n",
       "      <td>0</td>\n",
       "      <td>8</td>\n",
       "      <td>5</td>\n",
       "      <td>5</td>\n",
       "      <td>4</td>\n",
       "      <td>0</td>\n",
       "      <td>0.0</td>\n",
       "      <td>2</td>\n",
       "      <td>0</td>\n",
       "      <td>2075.0</td>\n",
       "    </tr>\n",
       "    <tr>\n",
       "      <th>1</th>\n",
       "      <td>0</td>\n",
       "      <td>8</td>\n",
       "      <td>5</td>\n",
       "      <td>15</td>\n",
       "      <td>4</td>\n",
       "      <td>0</td>\n",
       "      <td>0.0</td>\n",
       "      <td>2</td>\n",
       "      <td>1</td>\n",
       "      <td>2075.0</td>\n",
       "    </tr>\n",
       "    <tr>\n",
       "      <th>2</th>\n",
       "      <td>0</td>\n",
       "      <td>9</td>\n",
       "      <td>3</td>\n",
       "      <td>2</td>\n",
       "      <td>4</td>\n",
       "      <td>0</td>\n",
       "      <td>0.0</td>\n",
       "      <td>2</td>\n",
       "      <td>0</td>\n",
       "      <td>1700.0</td>\n",
       "    </tr>\n",
       "    <tr>\n",
       "      <th>3</th>\n",
       "      <td>0</td>\n",
       "      <td>8</td>\n",
       "      <td>5</td>\n",
       "      <td>5</td>\n",
       "      <td>0</td>\n",
       "      <td>0</td>\n",
       "      <td>0.0</td>\n",
       "      <td>2</td>\n",
       "      <td>2</td>\n",
       "      <td>2000.0</td>\n",
       "    </tr>\n",
       "    <tr>\n",
       "      <th>4</th>\n",
       "      <td>0</td>\n",
       "      <td>8</td>\n",
       "      <td>5</td>\n",
       "      <td>15</td>\n",
       "      <td>4</td>\n",
       "      <td>0</td>\n",
       "      <td>0.0</td>\n",
       "      <td>2</td>\n",
       "      <td>2</td>\n",
       "      <td>2075.0</td>\n",
       "    </tr>\n",
       "  </tbody>\n",
       "</table>\n",
       "</div>"
      ],
      "text/plain": [
       "   Species  Country.of.Origin  Harvest.Year  Variety  Processing.Method  \\\n",
       "0        0                  8             5        5                  4   \n",
       "1        0                  8             5       15                  4   \n",
       "2        0                  9             3        2                  4   \n",
       "3        0                  8             5        5                  0   \n",
       "4        0                  8             5       15                  4   \n",
       "\n",
       "   Category.One.Defects  Quakers  Color  Category.Two.Defects  \\\n",
       "0                     0      0.0      2                     0   \n",
       "1                     0      0.0      2                     1   \n",
       "2                     0      0.0      2                     0   \n",
       "3                     0      0.0      2                     2   \n",
       "4                     0      0.0      2                     2   \n",
       "\n",
       "   altitude_mean_meters  \n",
       "0                2075.0  \n",
       "1                2075.0  \n",
       "2                1700.0  \n",
       "3                2000.0  \n",
       "4                2075.0  "
      ]
     },
     "execution_count": 4,
     "metadata": {},
     "output_type": "execute_result"
    }
   ],
   "source": [
    "Y=data[\"Total.Cup.Points\"]\n",
    "X=data.drop(\"Total.Cup.Points\",axis=1)\n",
    "feature_names=X.columns\n",
    "X.head()"
   ]
  },
  {
   "cell_type": "code",
   "execution_count": 5,
   "metadata": {},
   "outputs": [
    {
     "name": "stdout",
     "output_type": "stream",
     "text": [
      "(888, 10) (438, 10)\n"
     ]
    }
   ],
   "source": [
    "X_train, X_test, Y_train, Y_test = load('C:/Users/Administrator/2023_Data_Mining_Coffee_Quality_Dataset/classification_data.joblib')\n",
    "print(X_train.shape, X_test.shape)"
   ]
  },
  {
   "cell_type": "code",
   "execution_count": 6,
   "metadata": {},
   "outputs": [],
   "source": [
    "from sklearn.preprocessing import MinMaxScaler\n",
    "scaler = MinMaxScaler()\n",
    "scaler.fit(X_train)\n",
    "X_train = scaler.transform(X_train)\n",
    "X_test = scaler.transform(X_test)"
   ]
  },
  {
   "cell_type": "code",
   "execution_count": 7,
   "metadata": {},
   "outputs": [],
   "source": [
    "def resample(sampler, X, Y):\n",
    "    X_resampled, y_resampled = sampler.fit_resample(X, Y)\n",
    "    print(colored(\"Number of instances before resampling with {} : {}. \".format(type(sampler).__name__,\\\n",
    "                                                                           Counter(Y).items()), \"green\"))\n",
    "    print(colored(\"Number of instances after  resampling with {} : {}. \".format(type(sampler).__name__,\\\n",
    "                                                                           Counter(y_resampled).items()), \"blue\"))\n",
    "    return X_resampled, y_resampled\n",
    "    "
   ]
  },
  {
   "cell_type": "code",
   "execution_count": 8,
   "metadata": {},
   "outputs": [],
   "source": [
    "def report_imbalanced(model, x, y, text = \"training\"):\n",
    "    y_pred = model.predict(x)\n",
    "    \n",
    "    print(colored(\"Classification report for model {} on {} data\".format(type(model).__name__, text), \"green\"))\n",
    "    print(\"---------------------------------------------------------------------------------\")\n",
    "    print(classification_report_imbalanced(y, y_pred, zero_division=True))\n",
    "    print(\"---------------------------------------------------------------------------------\")\n",
    "    \n",
    "    print(colored(\"Confusion matrix for model {} on {} data \".format(type(model).__name__, text), \"green\"))\n",
    "    print(\"---------------------------------------------------------------------------------\")\n",
    "    print(pd.DataFrame(confusion_matrix(y, y_pred),columns=[4,5,6,7,8,9],index=[4,5,6,7,8,9]))\n",
    "    print(\"---------------------------------------------------------------------------------\")"
   ]
  },
  {
   "cell_type": "code",
   "execution_count": null,
   "metadata": {},
   "outputs": [],
   "source": [
    "from sklearn.metrics import classification_report\n",
    "#from termcolor import colored\n",
    "\n",
    "def report(model, x, y, text = \"training\"):\n",
    "    y_pred = model.predict(x)\n",
    "    \n",
    "    print(colored(\"Classification report for model {} on {} data\".format(type(model).__name__, text), \"green\"))\n",
    "    print(\"---------------------------------------------------------------------------------\")\n",
    "    print(classification_report(y, y_pred, zero_division=True))\n",
    "    print(\"---------------------------------------------------------------------------------\")\n",
    "    \n",
    "    print(colored(\"Confusion matrix for model {} on {} data \".format(type(model).__name__, text), \"green\"))\n",
    "    print(\"---------------------------------------------------------------------------------\")\n",
    "    print(pd.DataFrame(confusion_matrix(y, y_pred), columns=[4,5,6,7,8,9], index=[4,5,6,7,8,9]))\n",
    "    print(\"---------------------------------------------------------------------------------\")"
   ]
  },
  {
   "cell_type": "code",
   "execution_count": 9,
   "metadata": {},
   "outputs": [
    {
     "name": "stdout",
     "output_type": "stream",
     "text": [
      "\u001b[32mNumber of instances before resampling with SMOTEENN : dict_items([(8.0, 104), (7.0, 532), (6.0, 194), (4.0, 15), (9.0, 11), (5.0, 32)]). \u001b[0m\n",
      "\u001b[34mNumber of instances after  resampling with SMOTEENN : dict_items([(4.0, 467), (5.0, 425), (6.0, 192), (7.0, 123), (8.0, 296), (9.0, 488)]). \u001b[0m\n"
     ]
    }
   ],
   "source": [
    "#Balansiranje klasa koristeci SMOTE\n",
    "smoteenn = SMOTEENN(random_state=42)\n",
    "X_resampled, y_resampled = resample(smoteenn, X_train, Y_train)"
   ]
  },
  {
   "cell_type": "code",
   "execution_count": 10,
   "metadata": {},
   "outputs": [],
   "source": [
    "params = [\n",
    "            {\n",
    "                'kernel': ['linear'],\n",
    "                'C': [0.01, 0.1, 1, 10,100],\n",
    "            },\n",
    "            {\n",
    "                'kernel': ['rbf'],\n",
    "                'C': [0.01, 0.1, 1, 10,100],\n",
    "                'gamma': [0.01, 0.1, 1, 10],\n",
    "            },\n",
    "         ]"
   ]
  },
  {
   "cell_type": "code",
   "execution_count": 11,
   "metadata": {},
   "outputs": [],
   "source": [
    "gs = GridSearchCV(SVC(probability=True), params, cv=3, verbose=5)"
   ]
  },
  {
   "cell_type": "code",
   "execution_count": 12,
   "metadata": {},
   "outputs": [
    {
     "name": "stdout",
     "output_type": "stream",
     "text": [
      "Fitting 3 folds for each of 25 candidates, totalling 75 fits\n"
     ]
    },
    {
     "name": "stdout",
     "output_type": "stream",
     "text": [
      "[CV 1/3] END .............C=0.01, kernel=linear;, score=0.462 total time=   1.2s\n",
      "[CV 2/3] END .............C=0.01, kernel=linear;, score=0.393 total time=   1.1s\n",
      "[CV 3/3] END .............C=0.01, kernel=linear;, score=0.406 total time=   1.1s\n",
      "[CV 1/3] END ..............C=0.1, kernel=linear;, score=0.492 total time=   1.0s\n",
      "[CV 2/3] END ..............C=0.1, kernel=linear;, score=0.492 total time=   0.9s\n",
      "[CV 3/3] END ..............C=0.1, kernel=linear;, score=0.490 total time=   1.0s\n",
      "[CV 1/3] END ................C=1, kernel=linear;, score=0.627 total time=   0.8s\n",
      "[CV 2/3] END ................C=1, kernel=linear;, score=0.627 total time=   0.6s\n",
      "[CV 3/3] END ................C=1, kernel=linear;, score=0.615 total time=   0.4s\n",
      "[CV 1/3] END ...............C=10, kernel=linear;, score=0.679 total time=   0.6s\n",
      "[CV 2/3] END ...............C=10, kernel=linear;, score=0.678 total time=   0.6s\n",
      "[CV 3/3] END ...............C=10, kernel=linear;, score=0.682 total time=   0.6s\n",
      "[CV 1/3] END ..............C=100, kernel=linear;, score=0.718 total time=   1.5s\n",
      "[CV 2/3] END ..............C=100, kernel=linear;, score=0.705 total time=   1.4s\n",
      "[CV 3/3] END ..............C=100, kernel=linear;, score=0.730 total time=   1.9s\n",
      "[CV 1/3] END ....C=0.01, gamma=0.01, kernel=rbf;, score=0.245 total time=   1.9s\n",
      "[CV 2/3] END ....C=0.01, gamma=0.01, kernel=rbf;, score=0.245 total time=   1.6s\n",
      "[CV 3/3] END ....C=0.01, gamma=0.01, kernel=rbf;, score=0.244 total time=   1.7s\n",
      "[CV 1/3] END .....C=0.01, gamma=0.1, kernel=rbf;, score=0.245 total time=   1.2s\n",
      "[CV 2/3] END .....C=0.01, gamma=0.1, kernel=rbf;, score=0.245 total time=   1.1s\n",
      "[CV 3/3] END .....C=0.01, gamma=0.1, kernel=rbf;, score=0.244 total time=   1.2s\n",
      "[CV 1/3] END .......C=0.01, gamma=1, kernel=rbf;, score=0.489 total time=   1.2s\n",
      "[CV 2/3] END .......C=0.01, gamma=1, kernel=rbf;, score=0.402 total time=   1.1s\n",
      "[CV 3/3] END .......C=0.01, gamma=1, kernel=rbf;, score=0.407 total time=   1.1s\n",
      "[CV 1/3] END ......C=0.01, gamma=10, kernel=rbf;, score=0.432 total time=   1.2s\n",
      "[CV 2/3] END ......C=0.01, gamma=10, kernel=rbf;, score=0.392 total time=   1.1s\n",
      "[CV 3/3] END ......C=0.01, gamma=10, kernel=rbf;, score=0.401 total time=   1.2s\n",
      "[CV 1/3] END .....C=0.1, gamma=0.01, kernel=rbf;, score=0.245 total time=   1.1s\n",
      "[CV 2/3] END .....C=0.1, gamma=0.01, kernel=rbf;, score=0.245 total time=   1.1s\n",
      "[CV 3/3] END .....C=0.1, gamma=0.01, kernel=rbf;, score=0.244 total time=   1.1s\n",
      "[CV 1/3] END ......C=0.1, gamma=0.1, kernel=rbf;, score=0.485 total time=   1.1s\n",
      "[CV 2/3] END ......C=0.1, gamma=0.1, kernel=rbf;, score=0.482 total time=   1.1s\n",
      "[CV 3/3] END ......C=0.1, gamma=0.1, kernel=rbf;, score=0.486 total time=   1.1s\n",
      "[CV 1/3] END ........C=0.1, gamma=1, kernel=rbf;, score=0.566 total time=   1.0s\n",
      "[CV 2/3] END ........C=0.1, gamma=1, kernel=rbf;, score=0.575 total time=   1.1s\n",
      "[CV 3/3] END ........C=0.1, gamma=1, kernel=rbf;, score=0.578 total time=   1.0s\n",
      "[CV 1/3] END .......C=0.1, gamma=10, kernel=rbf;, score=0.755 total time=   0.8s\n",
      "[CV 2/3] END .......C=0.1, gamma=10, kernel=rbf;, score=0.711 total time=   0.9s\n",
      "[CV 3/3] END .......C=0.1, gamma=10, kernel=rbf;, score=0.718 total time=   0.8s\n",
      "[CV 1/3] END .......C=1, gamma=0.01, kernel=rbf;, score=0.485 total time=   1.1s\n",
      "[CV 2/3] END .......C=1, gamma=0.01, kernel=rbf;, score=0.482 total time=   1.1s\n",
      "[CV 3/3] END .......C=1, gamma=0.01, kernel=rbf;, score=0.486 total time=   1.1s\n",
      "[CV 1/3] END ........C=1, gamma=0.1, kernel=rbf;, score=0.536 total time=   0.9s\n",
      "[CV 2/3] END ........C=1, gamma=0.1, kernel=rbf;, score=0.536 total time=   0.9s\n",
      "[CV 3/3] END ........C=1, gamma=0.1, kernel=rbf;, score=0.543 total time=   0.8s\n",
      "[CV 1/3] END ..........C=1, gamma=1, kernel=rbf;, score=0.741 total time=   0.6s\n",
      "[CV 2/3] END ..........C=1, gamma=1, kernel=rbf;, score=0.744 total time=   0.6s\n",
      "[CV 3/3] END ..........C=1, gamma=1, kernel=rbf;, score=0.762 total time=   0.6s\n",
      "[CV 1/3] END .........C=1, gamma=10, kernel=rbf;, score=0.889 total time=   0.5s\n",
      "[CV 2/3] END .........C=1, gamma=10, kernel=rbf;, score=0.869 total time=   0.5s\n",
      "[CV 3/3] END .........C=1, gamma=10, kernel=rbf;, score=0.885 total time=   0.5s\n",
      "[CV 1/3] END ......C=10, gamma=0.01, kernel=rbf;, score=0.517 total time=   0.9s\n",
      "[CV 2/3] END ......C=10, gamma=0.01, kernel=rbf;, score=0.530 total time=   0.9s\n",
      "[CV 3/3] END ......C=10, gamma=0.01, kernel=rbf;, score=0.544 total time=   1.0s\n",
      "[CV 1/3] END .......C=10, gamma=0.1, kernel=rbf;, score=0.682 total time=   0.7s\n",
      "[CV 2/3] END .......C=10, gamma=0.1, kernel=rbf;, score=0.697 total time=   0.7s\n",
      "[CV 3/3] END .......C=10, gamma=0.1, kernel=rbf;, score=0.697 total time=   0.7s\n",
      "[CV 1/3] END .........C=10, gamma=1, kernel=rbf;, score=0.837 total time=   0.5s\n",
      "[CV 2/3] END .........C=10, gamma=1, kernel=rbf;, score=0.819 total time=   0.5s\n",
      "[CV 3/3] END .........C=10, gamma=1, kernel=rbf;, score=0.846 total time=   0.5s\n",
      "[CV 1/3] END ........C=10, gamma=10, kernel=rbf;, score=0.959 total time=   0.4s\n",
      "[CV 2/3] END ........C=10, gamma=10, kernel=rbf;, score=0.938 total time=   0.4s\n",
      "[CV 3/3] END ........C=10, gamma=10, kernel=rbf;, score=0.947 total time=   0.4s\n",
      "[CV 1/3] END .....C=100, gamma=0.01, kernel=rbf;, score=0.664 total time=   0.8s\n",
      "[CV 2/3] END .....C=100, gamma=0.01, kernel=rbf;, score=0.651 total time=   0.8s\n",
      "[CV 3/3] END .....C=100, gamma=0.01, kernel=rbf;, score=0.637 total time=   0.7s\n",
      "[CV 1/3] END ......C=100, gamma=0.1, kernel=rbf;, score=0.762 total time=   0.6s\n",
      "[CV 2/3] END ......C=100, gamma=0.1, kernel=rbf;, score=0.768 total time=   0.6s\n",
      "[CV 3/3] END ......C=100, gamma=0.1, kernel=rbf;, score=0.792 total time=   0.7s\n",
      "[CV 1/3] END ........C=100, gamma=1, kernel=rbf;, score=0.913 total time=   0.5s\n",
      "[CV 2/3] END ........C=100, gamma=1, kernel=rbf;, score=0.899 total time=   0.4s\n",
      "[CV 3/3] END ........C=100, gamma=1, kernel=rbf;, score=0.894 total time=   0.4s\n",
      "[CV 1/3] END .......C=100, gamma=10, kernel=rbf;, score=0.973 total time=   0.4s\n",
      "[CV 2/3] END .......C=100, gamma=10, kernel=rbf;, score=0.958 total time=   0.4s\n",
      "[CV 3/3] END .......C=100, gamma=10, kernel=rbf;, score=0.970 total time=   0.4s\n"
     ]
    },
    {
     "data": {
      "text/html": [
       "<style>#sk-container-id-1 {color: black;}#sk-container-id-1 pre{padding: 0;}#sk-container-id-1 div.sk-toggleable {background-color: white;}#sk-container-id-1 label.sk-toggleable__label {cursor: pointer;display: block;width: 100%;margin-bottom: 0;padding: 0.3em;box-sizing: border-box;text-align: center;}#sk-container-id-1 label.sk-toggleable__label-arrow:before {content: \"▸\";float: left;margin-right: 0.25em;color: #696969;}#sk-container-id-1 label.sk-toggleable__label-arrow:hover:before {color: black;}#sk-container-id-1 div.sk-estimator:hover label.sk-toggleable__label-arrow:before {color: black;}#sk-container-id-1 div.sk-toggleable__content {max-height: 0;max-width: 0;overflow: hidden;text-align: left;background-color: #f0f8ff;}#sk-container-id-1 div.sk-toggleable__content pre {margin: 0.2em;color: black;border-radius: 0.25em;background-color: #f0f8ff;}#sk-container-id-1 input.sk-toggleable__control:checked~div.sk-toggleable__content {max-height: 200px;max-width: 100%;overflow: auto;}#sk-container-id-1 input.sk-toggleable__control:checked~label.sk-toggleable__label-arrow:before {content: \"▾\";}#sk-container-id-1 div.sk-estimator input.sk-toggleable__control:checked~label.sk-toggleable__label {background-color: #d4ebff;}#sk-container-id-1 div.sk-label input.sk-toggleable__control:checked~label.sk-toggleable__label {background-color: #d4ebff;}#sk-container-id-1 input.sk-hidden--visually {border: 0;clip: rect(1px 1px 1px 1px);clip: rect(1px, 1px, 1px, 1px);height: 1px;margin: -1px;overflow: hidden;padding: 0;position: absolute;width: 1px;}#sk-container-id-1 div.sk-estimator {font-family: monospace;background-color: #f0f8ff;border: 1px dotted black;border-radius: 0.25em;box-sizing: border-box;margin-bottom: 0.5em;}#sk-container-id-1 div.sk-estimator:hover {background-color: #d4ebff;}#sk-container-id-1 div.sk-parallel-item::after {content: \"\";width: 100%;border-bottom: 1px solid gray;flex-grow: 1;}#sk-container-id-1 div.sk-label:hover label.sk-toggleable__label {background-color: #d4ebff;}#sk-container-id-1 div.sk-serial::before {content: \"\";position: absolute;border-left: 1px solid gray;box-sizing: border-box;top: 0;bottom: 0;left: 50%;z-index: 0;}#sk-container-id-1 div.sk-serial {display: flex;flex-direction: column;align-items: center;background-color: white;padding-right: 0.2em;padding-left: 0.2em;position: relative;}#sk-container-id-1 div.sk-item {position: relative;z-index: 1;}#sk-container-id-1 div.sk-parallel {display: flex;align-items: stretch;justify-content: center;background-color: white;position: relative;}#sk-container-id-1 div.sk-item::before, #sk-container-id-1 div.sk-parallel-item::before {content: \"\";position: absolute;border-left: 1px solid gray;box-sizing: border-box;top: 0;bottom: 0;left: 50%;z-index: -1;}#sk-container-id-1 div.sk-parallel-item {display: flex;flex-direction: column;z-index: 1;position: relative;background-color: white;}#sk-container-id-1 div.sk-parallel-item:first-child::after {align-self: flex-end;width: 50%;}#sk-container-id-1 div.sk-parallel-item:last-child::after {align-self: flex-start;width: 50%;}#sk-container-id-1 div.sk-parallel-item:only-child::after {width: 0;}#sk-container-id-1 div.sk-dashed-wrapped {border: 1px dashed gray;margin: 0 0.4em 0.5em 0.4em;box-sizing: border-box;padding-bottom: 0.4em;background-color: white;}#sk-container-id-1 div.sk-label label {font-family: monospace;font-weight: bold;display: inline-block;line-height: 1.2em;}#sk-container-id-1 div.sk-label-container {text-align: center;}#sk-container-id-1 div.sk-container {/* jupyter's `normalize.less` sets `[hidden] { display: none; }` but bootstrap.min.css set `[hidden] { display: none !important; }` so we also need the `!important` here to be able to override the default hidden behavior on the sphinx rendered scikit-learn.org. See: https://github.com/scikit-learn/scikit-learn/issues/21755 */display: inline-block !important;position: relative;}#sk-container-id-1 div.sk-text-repr-fallback {display: none;}</style><div id=\"sk-container-id-1\" class=\"sk-top-container\"><div class=\"sk-text-repr-fallback\"><pre>GridSearchCV(cv=3, estimator=SVC(probability=True),\n",
       "             param_grid=[{&#x27;C&#x27;: [0.01, 0.1, 1, 10, 100], &#x27;kernel&#x27;: [&#x27;linear&#x27;]},\n",
       "                         {&#x27;C&#x27;: [0.01, 0.1, 1, 10, 100],\n",
       "                          &#x27;gamma&#x27;: [0.01, 0.1, 1, 10], &#x27;kernel&#x27;: [&#x27;rbf&#x27;]}],\n",
       "             scoring=&#x27;accuracy&#x27;, verbose=5)</pre><b>In a Jupyter environment, please rerun this cell to show the HTML representation or trust the notebook. <br />On GitHub, the HTML representation is unable to render, please try loading this page with nbviewer.org.</b></div><div class=\"sk-container\" hidden><div class=\"sk-item sk-dashed-wrapped\"><div class=\"sk-label-container\"><div class=\"sk-label sk-toggleable\"><input class=\"sk-toggleable__control sk-hidden--visually\" id=\"sk-estimator-id-1\" type=\"checkbox\" ><label for=\"sk-estimator-id-1\" class=\"sk-toggleable__label sk-toggleable__label-arrow\">GridSearchCV</label><div class=\"sk-toggleable__content\"><pre>GridSearchCV(cv=3, estimator=SVC(probability=True),\n",
       "             param_grid=[{&#x27;C&#x27;: [0.01, 0.1, 1, 10, 100], &#x27;kernel&#x27;: [&#x27;linear&#x27;]},\n",
       "                         {&#x27;C&#x27;: [0.01, 0.1, 1, 10, 100],\n",
       "                          &#x27;gamma&#x27;: [0.01, 0.1, 1, 10], &#x27;kernel&#x27;: [&#x27;rbf&#x27;]}],\n",
       "             scoring=&#x27;accuracy&#x27;, verbose=5)</pre></div></div></div><div class=\"sk-parallel\"><div class=\"sk-parallel-item\"><div class=\"sk-item\"><div class=\"sk-label-container\"><div class=\"sk-label sk-toggleable\"><input class=\"sk-toggleable__control sk-hidden--visually\" id=\"sk-estimator-id-2\" type=\"checkbox\" ><label for=\"sk-estimator-id-2\" class=\"sk-toggleable__label sk-toggleable__label-arrow\">estimator: SVC</label><div class=\"sk-toggleable__content\"><pre>SVC(probability=True)</pre></div></div></div><div class=\"sk-serial\"><div class=\"sk-item\"><div class=\"sk-estimator sk-toggleable\"><input class=\"sk-toggleable__control sk-hidden--visually\" id=\"sk-estimator-id-3\" type=\"checkbox\" ><label for=\"sk-estimator-id-3\" class=\"sk-toggleable__label sk-toggleable__label-arrow\">SVC</label><div class=\"sk-toggleable__content\"><pre>SVC(probability=True)</pre></div></div></div></div></div></div></div></div></div></div>"
      ],
      "text/plain": [
       "GridSearchCV(cv=3, estimator=SVC(probability=True),\n",
       "             param_grid=[{'C': [0.01, 0.1, 1, 10, 100], 'kernel': ['linear']},\n",
       "                         {'C': [0.01, 0.1, 1, 10, 100],\n",
       "                          'gamma': [0.01, 0.1, 1, 10], 'kernel': ['rbf']}],\n",
       "             scoring='accuracy', verbose=5)"
      ]
     },
     "execution_count": 12,
     "metadata": {},
     "output_type": "execute_result"
    }
   ],
   "source": [
    "gs.fit(X_resampled, y_resampled)"
   ]
  },
  {
   "cell_type": "code",
   "execution_count": 13,
   "metadata": {},
   "outputs": [
    {
     "data": {
      "text/plain": [
       "{'C': 100, 'gamma': 10, 'kernel': 'rbf'}"
      ]
     },
     "execution_count": 13,
     "metadata": {},
     "output_type": "execute_result"
    }
   ],
   "source": [
    "gs.best_params_"
   ]
  },
  {
   "cell_type": "code",
   "execution_count": 14,
   "metadata": {},
   "outputs": [
    {
     "data": {
      "text/plain": [
       "0.9668523263491372"
      ]
     },
     "execution_count": 14,
     "metadata": {},
     "output_type": "execute_result"
    }
   ],
   "source": [
    "gs.best_score_"
   ]
  },
  {
   "cell_type": "code",
   "execution_count": 15,
   "metadata": {},
   "outputs": [
    {
     "name": "stdout",
     "output_type": "stream",
     "text": [
      "\u001b[32mClassification report for model SVC on training data\u001b[0m\n",
      "---------------------------------------------------------------------------------\n",
      "                   pre       rec       spe        f1       geo       iba       sup\n",
      "\n",
      "        4.0       1.00      1.00      1.00      1.00      1.00      1.00       467\n",
      "        5.0       1.00      1.00      1.00      1.00      1.00      1.00       425\n",
      "        6.0       1.00      0.99      1.00      1.00      1.00      0.99       192\n",
      "        7.0       0.99      0.99      1.00      0.99      1.00      0.99       123\n",
      "        8.0       0.99      0.98      1.00      0.98      0.99      0.97       296\n",
      "        9.0       0.99      1.00      1.00      0.99      1.00      1.00       488\n",
      "\n",
      "avg / total       0.99      0.99      1.00      0.99      1.00      0.99      1991\n",
      "\n",
      "---------------------------------------------------------------------------------\n",
      "\u001b[32mConfusion matrix for model SVC on training data \u001b[0m\n",
      "---------------------------------------------------------------------------------\n",
      "     4    5    6    7    8    9\n",
      "4  467    0    0    0    0    0\n",
      "5    1  424    0    0    0    0\n",
      "6    0    0  191    0    1    0\n",
      "7    0    0    0  122    1    0\n",
      "8    0    0    0    1  289    6\n",
      "9    0    0    0    0    0  488\n",
      "---------------------------------------------------------------------------------\n"
     ]
    }
   ],
   "source": [
    "report(gs.best_estimator_,X_resampled,y_resampled)"
   ]
  },
  {
   "cell_type": "code",
   "execution_count": 16,
   "metadata": {},
   "outputs": [
    {
     "name": "stdout",
     "output_type": "stream",
     "text": [
      "\u001b[32mClassification report for model SVC on training data\u001b[0m\n",
      "---------------------------------------------------------------------------------\n",
      "                   pre       rec       spe        f1       geo       iba       sup\n",
      "\n",
      "        4.0       0.03      0.12      0.92      0.05      0.34      0.11         8\n",
      "        5.0       0.15      0.50      0.89      0.23      0.67      0.43        16\n",
      "        6.0       0.23      0.20      0.81      0.21      0.40      0.15        95\n",
      "        7.0       0.68      0.38      0.73      0.49      0.53      0.27       263\n",
      "        8.0       0.22      0.39      0.82      0.28      0.57      0.31        51\n",
      "        9.0       0.04      0.20      0.94      0.06      0.43      0.17         5\n",
      "\n",
      "avg / total       0.49      0.34      0.77      0.38      0.50      0.25       438\n",
      "\n",
      "---------------------------------------------------------------------------------\n",
      "\u001b[32mConfusion matrix for model SVC on training data \u001b[0m\n",
      "---------------------------------------------------------------------------------\n",
      "    4   5   6    7   8   9\n",
      "4   1   4   1    2   0   0\n",
      "5   1   8   1    4   2   0\n",
      "6  15  13  19   28  17   3\n",
      "7  17  26  56  100  48  16\n",
      "8   2   2   5   14  20   8\n",
      "9   0   0   1    0   3   1\n",
      "---------------------------------------------------------------------------------\n"
     ]
    }
   ],
   "source": [
    "report(gs.best_estimator_,X_test,Y_test,\"test\")"
   ]
  },
  {
   "cell_type": "code",
   "execution_count": 17,
   "metadata": {},
   "outputs": [
    {
     "data": {
      "text/plain": [
       "['C:/Users/Administrator/2023_Data_Mining_Coffee_Quality_Dataset/models/classification/svm.pkl']"
      ]
     },
     "execution_count": 17,
     "metadata": {},
     "output_type": "execute_result"
    }
   ],
   "source": [
    "import joblib\n",
    "gs.best_estimator_.fit(X_resampled,y_resampled)\n",
    "joblib.dump(gs.best_estimator_, \"C:/Users/Administrator/2023_Data_Mining_Coffee_Quality_Dataset/models/classification/svm.pkl\")"
   ]
  },
  {
   "cell_type": "code",
   "execution_count": null,
   "metadata": {},
   "outputs": [],
   "source": [
    "from sklearn.preprocessing import OneHotEncoder\n",
    "from sklearn.preprocessing import StandardScaler\n",
    "hotencoder=OneHotEncoder(feature_name_combiner=\"concat\")\n",
    "encoder_df=pd.DataFrame(hotencoder.fit_transform(X[[\"Country.of.Origin\",\"Variety\",\"Processing.Method\",\"Color\"]]).toarray(),columns=hotencoder.get_feature_names_out())"
   ]
  },
  {
   "cell_type": "code",
   "execution_count": null,
   "metadata": {},
   "outputs": [],
   "source": [
    "X=X.join(encoder_df)\n",
    "X.drop(labels=[\"Country.of.Origin\",\"Variety\",\"Processing.Method\",\"Color\"],axis=1,inplace=True)"
   ]
  },
  {
   "cell_type": "code",
   "execution_count": null,
   "metadata": {},
   "outputs": [],
   "source": [
    "X_train1, X_test1, y_train1, y_test1 = train_test_split(X, Y, test_size=0.33, random_state=42)\n",
    "scaler = StandardScaler()\n",
    "scaler.fit(X_train1)\n",
    "X_train1 = scaler.transform(X_train1)\n",
    "X_test1 = scaler.transform(X_test1)"
   ]
  },
  {
   "cell_type": "code",
   "execution_count": null,
   "metadata": {},
   "outputs": [],
   "source": [
    "from sklearn.decomposition import PCA\n",
    "pca = PCA(2)\n",
    "pca.fit(X_train1)\n",
    "X_train1=pca.transform(X_train1)\n",
    "X_test1=pca.transform(X_test1)"
   ]
  },
  {
   "cell_type": "code",
   "execution_count": null,
   "metadata": {},
   "outputs": [],
   "source": [
    "estimator_pca = GridSearchCV(SVC(probability=True), params, cv=3, verbose=5)"
   ]
  },
  {
   "cell_type": "code",
   "execution_count": null,
   "metadata": {},
   "outputs": [],
   "source": [
    "estimator_pca.fit(X_train1, y_train1)"
   ]
  },
  {
   "cell_type": "code",
   "execution_count": null,
   "metadata": {},
   "outputs": [],
   "source": [
    "print(estimator_pca.best_params_)\n",
    "print(estimator_pca.best_score_)"
   ]
  },
  {
   "cell_type": "code",
   "execution_count": null,
   "metadata": {},
   "outputs": [],
   "source": [
    "report_imbalanced(estimator_pca.best_estimator_,X_train1,y_train1,)"
   ]
  },
  {
   "cell_type": "code",
   "execution_count": null,
   "metadata": {},
   "outputs": [],
   "source": [
    "report_imbalanced(estimator_pca.best_estimator_,X_test1,y_test1,\"test\")"
   ]
  }
 ],
 "metadata": {
  "kernelspec": {
   "display_name": "Python 3",
   "language": "python",
   "name": "python3"
  },
  "language_info": {
   "codemirror_mode": {
    "name": "ipython",
    "version": 3
   },
   "file_extension": ".py",
   "mimetype": "text/x-python",
   "name": "python",
   "nbconvert_exporter": "python",
   "pygments_lexer": "ipython3",
   "version": "3.11.4"
  },
  "orig_nbformat": 4
 },
 "nbformat": 4,
 "nbformat_minor": 2
}
